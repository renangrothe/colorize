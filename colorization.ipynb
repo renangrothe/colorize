{
 "cells": [
  {
   "cell_type": "markdown",
   "id": "34976832-775b-4129-a360-c6d36cb46ad1",
   "metadata": {},
   "source": [
    "# Colorização Automática de Imagens em Tons de Cinza via Classificação Multimodal"
   ]
  },
  {
   "cell_type": "markdown",
   "id": "4fdb3029-973a-4aab-8362-76b3fe99684a",
   "metadata": {},
   "source": [
    "## O objetivo deste notebook é implementar um algoritmo de Deep Learning para a disciplina de Processamento de Imagens, seguindo a referência e embasamento teórico encontrado em http://richzhang.github.io/colorization/"
   ]
  },
  {
   "cell_type": "code",
   "execution_count": null,
   "id": "d78d9aa5-d120-4691-9f9c-43d59b3e77f4",
   "metadata": {},
   "outputs": [],
   "source": []
  }
 ],
 "metadata": {
  "kernelspec": {
   "display_name": "Python 3 (ipykernel)",
   "language": "python",
   "name": "python3"
  },
  "language_info": {
   "codemirror_mode": {
    "name": "ipython",
    "version": 3
   },
   "file_extension": ".py",
   "mimetype": "text/x-python",
   "name": "python",
   "nbconvert_exporter": "python",
   "pygments_lexer": "ipython3",
   "version": "3.13.3"
  }
 },
 "nbformat": 4,
 "nbformat_minor": 5
}
